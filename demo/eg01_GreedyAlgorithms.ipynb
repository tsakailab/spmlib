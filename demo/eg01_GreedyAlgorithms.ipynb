{
  "nbformat": 4,
  "nbformat_minor": 0,
  "metadata": {
    "colab": {
      "name": "eg01_GreedyAlgorithms.ipynb",
      "provenance": [],
      "collapsed_sections": [],
      "include_colab_link": true
    },
    "kernelspec": {
      "name": "python3",
      "display_name": "Python 3"
    }
  },
  "cells": [
    {
      "cell_type": "markdown",
      "metadata": {
        "id": "view-in-github",
        "colab_type": "text"
      },
      "source": [
        "<a href=\"https://colab.research.google.com/github/tsakailab/spmlib/blob/master/demo/eg01_GreedyAlgorithms.ipynb\" target=\"_parent\"><img src=\"https://colab.research.google.com/assets/colab-badge.svg\" alt=\"Open In Colab\"/></a>"
      ]
    },
    {
      "cell_type": "code",
      "metadata": {
        "id": "0tY7aelCVn3A"
      },
      "source": [
        "%matplotlib inline"
      ],
      "execution_count": null,
      "outputs": []
    },
    {
      "cell_type": "code",
      "metadata": {
        "id": "7h6NH-q3l_qE"
      },
      "source": [
        "# S .G. Mallat and Z. Zhang. \"Matching pursuits with time-frequency dictionaries.\"\n",
        "# IEEE TSP 41(12), pp. 3397-3415, 1993.\n",
        "# Matching Pursuit (MP)\n",
        "import numpy as np\n",
        "from scipy.linalg import norm\n",
        "def MP(A, b, delta=1e-6, maxnnz=None):\n",
        "    m, n = A.shape\n",
        "    if maxnnz is None: maxnnz = m//2\n",
        "    scale = 1.0 / norm(A, axis=0)\n",
        "    r = b.copy()\n",
        "    x = np.zeros(n, dtype=A.dtype)\n",
        "    supp = set()\n",
        "    while len(supp) < maxnnz and norm(r) > delta:\n",
        "        c = A.conj().T.dot(r) * scale\n",
        "        s = np.argmax(np.abs(c))\n",
        "        supp.add(s)\n",
        "        dx = c[s] * scale[s]\n",
        "        x[s] += dx\n",
        "        r -= A[:,s] * dx\n",
        "    return x"
      ],
      "execution_count": null,
      "outputs": []
    },
    {
      "cell_type": "code",
      "metadata": {
        "id": "Y72Q_C0yVn3E"
      },
      "source": [
        "# Y.C. Pati, R. Rezaiifar, Y.C.P.R. Rezaiifar, and P.S. Krishnaprasad,\n",
        "# \"Orthogonal matching pursuit: Recursive function approximation with applications to wavelet decomposition,\"\n",
        "# Proc. 27th Annual Asilomar Conference on Signals, Systems, and Computers, pp.40–44, 1993.\n",
        "# Orthogonal matching pursuit (OMP)\n",
        "import numpy as np\n",
        "from scipy.linalg import norm, lstsq\n",
        "def OMP(A, b, delta=1e-6, maxnnz=None):\n",
        "    m, n = A.shape\n",
        "    if maxnnz is None: maxnnz = m // 2\n",
        "    r = b.copy()\n",
        "    x = np.zeros(n, dtype=b.dtype)\n",
        "    supp = []\n",
        "    while len(supp) < maxnnz and norm(r) > delta:\n",
        "        s = np.argmax(np.abs(A.T.dot(r)))\n",
        "        supp.append(s)\n",
        "        Asupp = A[:,supp]\n",
        "        x[supp] = lstsq(Asupp, b)[0]\n",
        "        r = b - Asupp.dot(x[supp])\n",
        "    x[np.abs(x) < np.spacing(np.single(np.abs(x).max()))] = 0.\n",
        "    return x"
      ],
      "execution_count": null,
      "outputs": []
    },
    {
      "cell_type": "code",
      "metadata": {
        "id": "IGxVB6gvVn3U"
      },
      "source": [
        "# J. Wang, S. Kwon, and B. Shim, \"Generalized orthogonal matching pursuit,\"\n",
        "# IEEE TSP 60(12), pp.6202–6216, 2012.\n",
        "# Generalized orthogonal matching pursuit (gOMP)\n",
        "import numpy as np\n",
        "from scipy.linalg import norm, lstsq\n",
        "def gOMP(A, b, N=3, delta=1e-6, maxiter=None):\n",
        "    m, n = A.shape\n",
        "    if maxiter is None: maxiter = m // N\n",
        "    r = b.copy()\n",
        "    x = np.zeros(n, dtype=b.dtype)\n",
        "    supp = []\n",
        "\n",
        "    count = 0\n",
        "    while count < maxiter and norm(r) > delta:\n",
        "        count += 1\n",
        "        s = np.argsort(-np.abs(A.T.dot(r)))\n",
        "        supp.extend(s[:N])\n",
        "        Asupp = A[:,supp]\n",
        "        x[supp] = lstsq(Asupp, b)[0]\n",
        "        r = b - Asupp.dot(x[supp])\n",
        "    x[np.abs(x) < np.spacing(np.single(np.abs(x).max()))] = 0.\n",
        "    return x"
      ],
      "execution_count": null,
      "outputs": []
    },
    {
      "cell_type": "code",
      "metadata": {
        "id": "9mm7O7mHVn3a"
      },
      "source": [
        "import numpy as np\n",
        "from scipy.linalg import norm, qr, qr_insert, solve_triangular\n",
        "\n",
        "# Generalized orthogonal matching pursuit with QR factorization (gOMPQR)\n",
        "def gOMPQR(A, b, N=3, delta=1e-6, maxiter=None):\n",
        "    m, n = A.shape\n",
        "    if maxiter is None: maxiter = m // N\n",
        "    r = b.copy()\n",
        "\n",
        "    # find the 1st atom group and orthonormal basis\n",
        "    s = np.argsort(-np.abs(A.T.dot(r)))\n",
        "    Q, R = qr(A[:,s[:N]], mode='economic')\n",
        "    xi = Q.T.dot(b)\n",
        "    r -= Q.dot(xi)\n",
        "    xnz = xi.tolist()\n",
        "    supp = s[:N].tolist()\n",
        "    \n",
        "    count = 1\n",
        "    while count < maxiter and norm(r) > delta:\n",
        "        count += 1\n",
        "        s = np.argsort(-np.abs(A.T.dot(r)))\n",
        "        Q, R = qr_insert(Q, R, A[:,s[:N]], Q.shape[1], which='col')\n",
        "        xi = Q[:,-N:].T.dot(b)\n",
        "        r -= Q[:,-N:].dot(xi)\n",
        "        xnz.extend(xi)\n",
        "        supp.extend(s[:N])\n",
        "\n",
        "    xnz = solve_triangular(R, xnz)\n",
        "    xnz[np.abs(xnz) < np.spacing(np.single(np.abs(xnz).max()))] = 0.\n",
        "    x = np.zeros(n, dtype=xnz.dtype)\n",
        "    x[supp] = xnz\n",
        "    return x"
      ],
      "execution_count": null,
      "outputs": []
    },
    {
      "cell_type": "code",
      "metadata": {
        "id": "-Aht6SYKVn3G"
      },
      "source": [
        "from time import time\n",
        "# Generate sythetic data for demo\n",
        "rng = np.random.RandomState(int(time()))\n",
        "#m, n = 128, 256\n",
        "#m, n = 256, 512\n",
        "#m, n = 512, 2048\n",
        "#m, n = 1024, 8192\n",
        "m, n = 2000, 4000\n",
        "dtype = np.float64  # try np.float32 and np.float64\n",
        "\n",
        "# use a random matrix as a basis\n",
        "A = rng.randn(m, n).astype(dtype) / np.sqrt(m)\n",
        "\n",
        "# generate a k-sparse Gaussian signal vector\n",
        "k = 300\n",
        "stdx = 1.\n",
        "snr = 10.  # try 20., 10., 5., np.inf\n",
        "\n",
        "x_true = np.zeros(n, dtype=dtype)\n",
        "T = np.sort(rng.choice(n,k,replace=False))\n",
        "print('True support of %d/%d nonzeros = ' % (k,n))\n",
        "print(T)\n",
        "x_true[T] = rng.randn(k).astype(dtype) * stdx\n",
        "\n",
        "# make the query vector\n",
        "b = A.dot(x_true)\n",
        "\n",
        "# add noise\n",
        "if np.isinf(snr):\n",
        "    noise = 0.\n",
        "else:\n",
        "    normb = norm(b)\n",
        "    noise = rng.randn(m).astype(dtype)\n",
        "    noise = noise / norm(noise) * normb / snr\n",
        "    b = b + noise\n",
        "\n",
        "tol = norm(noise)"
      ],
      "execution_count": null,
      "outputs": []
    },
    {
      "cell_type": "code",
      "metadata": {
        "id": "lkVgNBByVn3M"
      },
      "source": [
        "# OMP\n",
        "print(\"Running OMP..\")\n",
        "t0 = time()\n",
        "x_est = OMP(A, b, delta=tol)\n",
        "#x_est = OMP(A, b)  # noiseless case (snr=np.inf)\n",
        "print('done in %.2fs.' % (time() - t0))\n",
        "\n",
        "Tpred = np.nonzero(x_est)[0]\n",
        "print('Predicted supprt of %d nonzeros = ' % (np.count_nonzero(x_est)))\n",
        "print(Tpred)\n",
        "\n",
        "from sklearn import metrics\n",
        "print(metrics.classification_report(x_true == 0, x_est == 0))\n",
        "print(metrics.confusion_matrix(x_true == 0, x_est == 0))"
      ],
      "execution_count": null,
      "outputs": []
    },
    {
      "cell_type": "code",
      "metadata": {
        "id": "ZHElFJPjVn3W"
      },
      "source": [
        "# gOMP\n",
        "print(\"Running gOMP..\")\n",
        "t0 = time()\n",
        "x_est = gOMP(A, b, N=6, delta=tol)\n",
        "#x_est = gOMP(A, b, N=6)  # noiseless case (snr=np.inf)\n",
        "print('done in %.2fs.' % (time() - t0))\n",
        "\n",
        "Tpred = np.nonzero(x_est)[0]\n",
        "print('Predicted supprt of %d nonzeros = ' % (np.count_nonzero(x_est)))\n",
        "print(Tpred)\n",
        "\n",
        "from sklearn import metrics\n",
        "print(metrics.classification_report(x_true == 0, x_est == 0))\n",
        "print(metrics.confusion_matrix(x_true == 0, x_est == 0))"
      ],
      "execution_count": null,
      "outputs": []
    },
    {
      "cell_type": "code",
      "metadata": {
        "id": "hAgLsjAcVn3c"
      },
      "source": [
        "# gOMPQR\n",
        "print(\"Running gOMPQR..\")\n",
        "t0 = time()\n",
        "x_est = gOMPQR(A, b, N=6, delta=tol)\n",
        "#x_est = gOMPQR(A, b, N=6, maxiter=min(k,m//6))\n",
        "#x_est = gOMPQR(A, b, N=6)  # noiseless case (snr=np.inf)\n",
        "print('done in %.2fs.' % (time() - t0))\n",
        "\n",
        "Tpred = np.nonzero(x_est)[0]\n",
        "print('Predicted supprt of %d nonzeros = ' % (np.count_nonzero(x_est)))\n",
        "print(Tpred)\n",
        "\n",
        "from sklearn import metrics\n",
        "print(metrics.classification_report(x_true == 0, x_est == 0))\n",
        "print(metrics.confusion_matrix(x_true == 0, x_est == 0))"
      ],
      "execution_count": null,
      "outputs": []
    },
    {
      "cell_type": "code",
      "metadata": {
        "id": "j2Et4436IHqO"
      },
      "source": [
        "import matplotlib.pyplot as plt\n",
        "from scipy.linalg import norm\n",
        "\n",
        "def plot_sparse_solution(x_true, x_est, figname=None):\n",
        "    xrelerr = norm(x_est-x_true)/norm(x_true)\n",
        "    print('rel. error = %.2e' % (xrelerr))\n",
        "    \n",
        "    x_true_nz = x_true.nonzero()[0]\n",
        "    plt.plot(x_true_nz, x_true[x_true_nz], \n",
        "             '.', mfc='k', markersize=6, mec='k', label='True (nnz='+str(len(x_true_nz))+')')\n",
        "    x_est_nz = x_est.nonzero()[0]\n",
        "    plt.plot(x_est_nz, x_est[x_est_nz], \n",
        "             'o', mfc = 'None', markersize=8, mec='0.5', mew=1, label='Estimated (nnz='+str(len(x_est_nz))+')')\n",
        "    plt.xlim(0, len(x_true))\n",
        "    plt.axhline(0, color='k', linewidth=1)\n",
        "\n",
        "    plt.legend(loc='upper right', shadow=False)\n",
        "    plt.legend(fontsize=12)\n",
        "    plt.tick_params(labelsize=16)\n",
        "\n",
        "    plt.tight_layout()\n",
        "    if figname is not None:\n",
        "        plt.savefig(figname+'.pdf', bbox_inches='tight', dpi=300)\n",
        "        plt.savefig(figname+'.eps', bbox_inches='tight', dpi=300)"
      ],
      "execution_count": null,
      "outputs": []
    },
    {
      "cell_type": "code",
      "metadata": {
        "id": "CahO5Vo8Vn3g"
      },
      "source": [
        "plot_sparse_solution(x_true, x_est)#, figname='gOMP_solution')"
      ],
      "execution_count": null,
      "outputs": []
    },
    {
      "cell_type": "code",
      "metadata": {
        "id": "SLU6V4_jVn3k"
      },
      "source": [
        "%timeit -r 4 -n 10 gOMPQR(A, b, N=6,delta=tol)"
      ],
      "execution_count": null,
      "outputs": []
    },
    {
      "cell_type": "code",
      "metadata": {
        "id": "O875T5r-Vn3n"
      },
      "source": [
        "#m, n = 512, 1024\n",
        "m, n = 128, 256\n",
        "reconsts = {'test_count': 0, 'shape': (m,n), 'nnz': range(5, (3*m)//4, 10)}\n",
        "for alg in ['OMP', 'gOMP3', 'gOMP6', 'gOMP9']:\n",
        "    reconsts[alg] = {'success': {}, 'time': {}}\n",
        "    for k in reconsts['nnz']:\n",
        "        reconsts[alg]['success'][k] = 0\n",
        "        reconsts[alg]['time'][k] = 0\n",
        "print(reconsts)"
      ],
      "execution_count": null,
      "outputs": []
    },
    {
      "cell_type": "code",
      "metadata": {
        "id": "d3rrDOsmVn3q"
      },
      "source": [
        "from sklearn import metrics\n",
        "\n",
        "print(reconsts['nnz'])\n",
        "stdx = 1.\n",
        "snr = np.inf  # try 20., 10., 5.\n",
        "rng = np.random.RandomState(int(time()))\n",
        "dtype = np.float64  # try np.float32 and np.float64\n",
        "\n",
        "def count_success(x_true, x_est, reconsts, alg, k):\n",
        "    cf = metrics.confusion_matrix(x_true == 0, x_est == 0)\n",
        "    if cf[1,0] == 0 and cf[0,1] == 0:\n",
        "        reconsts[alg]['success'][k] += 1\n",
        "\n",
        "ntests = 100\n",
        "reconsts['test_count'] += ntests\n",
        "for k in reconsts['nnz']:\n",
        "\n",
        "    x_true = np.zeros(n, dtype=dtype)\n",
        "    T = np.sort(rng.choice(n,k,replace=False))\n",
        "    # print('True support of %d nonzeros = ' % (k))\n",
        "    x_true[T] = rng.randn(k).astype(dtype) * stdx\n",
        "\n",
        "    for t in range(ntests):\n",
        "        # use a random matrix as a basis\n",
        "        A = rng.randn(m, n).astype(dtype) / np.sqrt(m)\n",
        "\n",
        "        # make the query vector\n",
        "        b = A.dot(x_true)\n",
        "\n",
        "        # add noise\n",
        "        if np.isinf(snr):\n",
        "            noise = 0.\n",
        "        else:\n",
        "            normb = norm(b)\n",
        "            noise = rng.randn(m).astype(dtype)\n",
        "            noise = noise / norm(noise) * normb / snr\n",
        "            b = b + noise\n",
        "    \n",
        "        tol = norm(noise)\n",
        "        \n",
        "        t0 = time()   \n",
        "        x_est = gOMPQR(A, b, N=1, maxiter=min(k, m//2), delta=norm(b)*1e-8)\n",
        "        reconsts['OMP']['time'][k] += time() - t0\n",
        "        count_success(x_true, x_est, reconsts, 'OMP', k)\n",
        "\n",
        "        t0 = time()   \n",
        "        x_est = gOMPQR(A, b, N=3, maxiter=min(k, m//3), delta=norm(b)*1e-8)\n",
        "        reconsts['gOMP3']['time'][k] += time() - t0\n",
        "        count_success(x_true, x_est, reconsts, 'gOMP3', k)\n",
        "\n",
        "        t0 = time()   \n",
        "        x_est = gOMPQR(A, b, N=6, maxiter=min(k, m//6), delta=norm(b)*1e-8)\n",
        "        reconsts['gOMP6']['time'][k] += time() - t0\n",
        "        count_success(x_true, x_est, reconsts, 'gOMP6', k)\n",
        "\n",
        "        t0 = time()   \n",
        "        x_est = gOMPQR(A, b, N=9, maxiter=min(k, m//9), delta=norm(b)*1e-8)\n",
        "        reconsts['gOMP9']['time'][k] += time() - t0\n",
        "        count_success(x_true, x_est, reconsts, 'gOMP9', k)\n"
      ],
      "execution_count": null,
      "outputs": []
    },
    {
      "cell_type": "code",
      "metadata": {
        "id": "pbvuMa53Vn3u"
      },
      "source": [
        "import matplotlib.pyplot as plt\n",
        "plt.figure()\n",
        "\n",
        "reconst = np.array(list(reconsts['OMP']['success'].values())) / reconsts['test_count']\n",
        "plt.plot(reconsts['nnz'], reconst, 'ko-.', markersize=6, mec='k', mfc='None', label='OMP')\n",
        "\n",
        "reconst = np.array(list(reconsts['gOMP3']['success'].values())) / reconsts['test_count']\n",
        "plt.plot(reconsts['nnz'], reconst, 'ks-', markersize=6, mec='k', mfc='None', label='gOMP (N=3)')\n",
        "\n",
        "reconst = np.array(list(reconsts['gOMP6']['success'].values())) / reconsts['test_count']\n",
        "plt.plot(reconsts['nnz'], reconst, 'k*-', markersize=8, mec='k', mfc='None', label='gOMP (N=6)')\n",
        "\n",
        "reconst = np.array(list(reconsts['gOMP9']['success'].values())) / reconsts['test_count']\n",
        "plt.plot(reconsts['nnz'], reconst, 'k>-', markersize=6, mec='k', mfc='None', label='gOMP (N=9)')\n",
        "\n",
        "#plt.plot(np.arange(n), x_est, 'ro', mfc = 'None', markersize=8, mec='red', mew=1, label='Estimated')\n",
        "plt.legend(loc='lower left', shadow=False)\n",
        "plt.title('#trials='+str(reconsts['test_count']), fontsize=16)\n",
        "plt.xlabel(\"Sparsity\", fontsize=16)\n",
        "plt.ylabel(\"Prob. of exact reconst.\", fontsize=16)\n",
        "plt.legend(fontsize=16)\n",
        "plt.tick_params(labelsize=16)\n",
        "\n",
        "plt.tight_layout()\n",
        "#plt.savefig('gOMP_prob_reconst.pdf', bbox_inches='tight', dpi=300)\n",
        "#plt.savefig('gOMP_prob_reconst.eps', bbox_inches='tight', dpi=300)\n",
        "\n",
        "plt.show()"
      ],
      "execution_count": null,
      "outputs": []
    },
    {
      "cell_type": "code",
      "metadata": {
        "id": "wJOiLGApVn3w"
      },
      "source": [
        "import matplotlib.pyplot as plt\n",
        "plt.figure()\n",
        "#plt.yscale(\"log\")\n",
        "from matplotlib.ticker import ScalarFormatter\n",
        "\n",
        "reconst = np.array(list(reconsts['OMP']['time'].values())) / reconsts['test_count']\n",
        "plt.plot(reconsts['nnz'], reconst*1000, 'ko-.', markersize=6, mec='k', mfc='None', label='OMP')\n",
        "\n",
        "reconst = np.array(list(reconsts['gOMP3']['time'].values())) / reconsts['test_count']\n",
        "plt.plot(reconsts['nnz'], reconst*1000, 'ks-', markersize=6, mec='k', mfc='None', label='gOMP (N=3)')\n",
        "\n",
        "reconst = np.array(list(reconsts['gOMP6']['time'].values())) / reconsts['test_count']\n",
        "plt.plot(reconsts['nnz'], reconst*1000, 'k*-', markersize=8, mec='k', mfc='None', label='gOMP (N=6)')\n",
        "\n",
        "reconst = np.array(list(reconsts['gOMP9']['time'].values())) / reconsts['test_count']\n",
        "plt.plot(reconsts['nnz'], reconst*1000, 'k>-', markersize=6, mec='k', mfc='None', label='gOMP (N=9)')\n",
        "\n",
        "#plt.plot(np.arange(n), x_est, 'ro', mfc = 'None', markersize=8, mec='red', mew=1, label='Estimated')\n",
        "plt.legend(loc='upper left', shadow=False)\n",
        "plt.title('#trials='+str(reconsts['test_count']), fontsize=16)\n",
        "plt.xlabel(\"Sparsity\", fontsize=16)\n",
        "plt.ylabel(\"Running time [ms]\", fontsize=16)\n",
        "plt.legend(fontsize=16)\n",
        "plt.tick_params(labelsize=16)\n",
        "\n",
        "plt.tight_layout()\n",
        "#plt.savefig('gOMP_runningtime.pdf', bbox_inches='tight', dpi=300)\n",
        "#plt.savefig('gOMP_runningtime.eps', bbox_inches='tight', dpi=300)\n",
        "plt.show()"
      ],
      "execution_count": null,
      "outputs": []
    },
    {
      "cell_type": "code",
      "metadata": {
        "id": "mW4xgsy_Vn3z"
      },
      "source": [
        "# SPMLIB https://github.com/tsakailab/spmlib\n",
        "%%capture\n",
        "!git clone https://github.com/tsakailab/spmlib.git\n",
        "%cd spmlib\n",
        "!python setup.py develop --user\n",
        "\n",
        "from spmlib import solver as sps"
      ],
      "execution_count": null,
      "outputs": []
    },
    {
      "cell_type": "code",
      "metadata": {
        "id": "Bn2C8-xTuEGN"
      },
      "source": [
        "from numpy import linalg\n",
        "# MP\n",
        "print(\"Running MP..\")\n",
        "t0 = time()\n",
        "result_MP = sps.matching_pursuit(A, b, tol=tol)\n",
        "#result_MP = sps.matching_pursuit_LinearOperator(splinalg.aslinearoperator(A), b, tol=tol)\n",
        "x_est = result_MP[0]\n",
        "print('done in %.2fs.' % (time() - t0))\n",
        "print('%d iterations, supprt of %d nonzeros = ' % (result_MP[2], np.count_nonzero(x_est)))\n",
        "print(np.nonzero(x_est)[0])\n",
        "print('rel. error = %.2e' % (linalg.norm(x_est-x_true)/linalg.norm(x_true)))\n",
        "\n",
        "plt.figure()\n",
        "#plt.stem(x_true, markerfmt='g.', label='True')\n",
        "plt.plot(np.arange(n), x_true, 'g.', markersize=8, mec='green', label='True')\n",
        "plt.plot(np.arange(n), x_est, 'ro', mfc = 'None', markersize=8, mec='red', label='Estimated')\n",
        "plt.legend(loc='upper right', shadow=False)\n",
        "plt.show()\n",
        "\n",
        "\n",
        "\n",
        "# OMP\n",
        "print(\"Running OMP..\")\n",
        "t0 = time()\n",
        "result_OMP = sps.orthogonal_matching_pursuit(A, b, tol=tol)\n",
        "#result_OMP = sps.orthogonal_matching_pursuit_using_linearoperator(splinalg.aslinearoperator(A), b, tol=tol)\n",
        "#result_OMP = OMP(A, b, tol=linalg.norm(b)*1e-4, max_nnz=100)\n",
        "x_est = result_OMP[0]\n",
        "print('done in %.2fs.' % (time() - t0))\n",
        "print('%d iterations, supprt of %d nonzeros = ' % (result_OMP[2], np.count_nonzero(x_est)))\n",
        "print(np.nonzero(x_est)[0])\n",
        "print('rel. error = %.2e' % (linalg.norm(x_est-x_true)/linalg.norm(x_true)))\n",
        "\n",
        "plt.figure()\n",
        "#plt.stem(x_true, markerfmt='g.', label='True')\n",
        "plt.plot(np.arange(n), x_true, 'g.', markersize=8, mec='green', label='True')\n",
        "plt.plot(np.arange(n), x_est, 'ro', mfc = 'None', markersize=8, mec='red', label='Estimated')\n",
        "plt.legend(loc='upper right', shadow=False)\n",
        "plt.show()\n",
        "\n",
        "\n",
        "# Generalized OMP\n",
        "print(\"Running gOMP..\")\n",
        "t0 = time()\n",
        "result_gOMP = sps.generalized_orthogonal_matching_pursuit(A, b, N=5, tol=tol)\n",
        "x_est = result_gOMP[0]\n",
        "print('done in %.2fs.' % (time() - t0))\n",
        "print('%d iterations, supprt of %d nonzeros = ' % (result_gOMP[2], np.count_nonzero(x_est)))\n",
        "print(np.nonzero(x_est)[0])\n",
        "print('rel. error = %.2e' % (linalg.norm(x_est-x_true)/linalg.norm(x_true)))\n",
        "\n",
        "plt.figure()\n",
        "#plt.stem(x_true, markerfmt='g.', label='True')\n",
        "plt.plot(np.arange(n), x_true, 'g.', markersize=8, mec='green', label='True')\n",
        "plt.plot(np.arange(n), x_est, 'ro', mfc = 'None', markersize=8, mec='red', label='Estimated')\n",
        "plt.legend(loc='upper right', shadow=False)\n",
        "plt.show()\n",
        "\n",
        "\n",
        "# subspace pursuit\n",
        "print(\"Running subspace pursuit..\")\n",
        "t0 = time()\n",
        "result_SP = sps.subspace_pursuit(A, b)\n",
        "x_est = result_SP[0]\n",
        "print('done in %.2fs.' % (time() - t0))\n",
        "print('%d iterations, supprt of %d nonzeros = ' % (result_SP[2], np.count_nonzero(x_est)))\n",
        "print(np.nonzero(x_est)[0])\n",
        "print('rel. error = %.2e' % (linalg.norm(x_est-x_true)/linalg.norm(x_true)))\n",
        "\n",
        "plt.figure()\n",
        "#plt.stem(x_true, markerfmt='g.', label='True')\n",
        "plt.plot(np.arange(n), x_true, 'g.', markersize=8, mec='green', label='True')\n",
        "plt.plot(np.arange(n), x_est, 'ro', mfc = 'None', markersize=8, mec='red', label='Estimated')\n",
        "plt.legend(loc='upper right', shadow=False)\n",
        "plt.show()\n",
        "\n",
        "\n",
        "# FISTA followed by LS debias\n",
        "#l = 0.1*stdx\n",
        "l = (stdx / k * m) / np.sqrt(snr) / normb\n",
        "print(\"Running FISTA followed by debias..\")\n",
        "t0 = time()\n",
        "result_FISTA_debias = sps.fista(A, b, tol=tol, l=l, tolx=linalg.norm(A.T.dot(b))*1e-5, maxiter=50, debias=True)\n",
        "x_est = result_FISTA_debias[0]\n",
        "print('done in %.2fs.' % (time() - t0))\n",
        "print('%d iterations, supprt of %d nonzeros = ' % (result_FISTA_debias[2], np.count_nonzero(x_est)))\n",
        "print(np.nonzero(x_est)[0])\n",
        "print('rel. error = %.2e' % (linalg.norm(x_est-x_true)/linalg.norm(x_true)))\n",
        "\n",
        "plt.figure()\n",
        "#plt.stem(x_true, markerfmt='g.')\n",
        "plt.plot(np.arange(n), x_true, 'g.', markersize=8, mec='green', label='True')\n",
        "plt.plot(np.arange(n), x_est, 'ro', mfc = 'None', markersize=8, mec='red', label='Estimated')\n",
        "plt.legend(loc='upper right', shadow=False)\n",
        "plt.show()"
      ],
      "execution_count": null,
      "outputs": []
    },
    {
      "cell_type": "code",
      "metadata": {
        "id": "3KwCa2fAu2tb"
      },
      "source": [
        ""
      ],
      "execution_count": null,
      "outputs": []
    }
  ]
}