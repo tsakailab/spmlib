{
  "nbformat": 4,
  "nbformat_minor": 0,
  "metadata": {
    "colab": {
      "name": "eg20_SeparateSignalDCTWT.ipynb",
      "provenance": [],
      "collapsed_sections": [],
      "authorship_tag": "ABX9TyPV4wQ3kMyB/uDoX3GlsnHP",
      "include_colab_link": true
    },
    "kernelspec": {
      "name": "python3",
      "display_name": "Python 3"
    }
  },
  "cells": [
    {
      "cell_type": "markdown",
      "metadata": {
        "id": "view-in-github",
        "colab_type": "text"
      },
      "source": [
        "<a href=\"https://colab.research.google.com/github/tsakailab/spmlib/blob/master/demo/eg20_SeparateSignalDCTWT.ipynb\" target=\"_parent\"><img src=\"https://colab.research.google.com/assets/colab-badge.svg\" alt=\"Open In Colab\"/></a>"
      ]
    },
    {
      "cell_type": "code",
      "metadata": {
        "id": "3M-hbUF4Xiz5",
        "colab_type": "code",
        "colab": {}
      },
      "source": [
        "import numpy as np\n",
        "from scipy import linalg\n",
        "import scipy.sparse.linalg as splinalg\n",
        "\n",
        "# soft thresholding function\n",
        "def soft(z, th):\n",
        "    return np.sign(z) * np.maximum(np.abs(z) - th, 0)\n",
        "\n",
        "# Fast iterative soft thresholding algorithm (FISTA)\n",
        "def FISTA(A, b, x=None, tol=1e-5, maxiter=1000, tolx=1e-12, l=1., L=None):\n",
        "\n",
        "    # A : m x n matrix, LinearOperator, or tuple (fA, fAT) of functions fA(z)=A.dot(z) and fAT(r)=A.conj().T.dot(r).\n",
        "    # define the functions that compute projections by A and its adjoint\n",
        "    if type(A) is tuple:\n",
        "        fA, fAT = A[0], A[1]\n",
        "    else:\n",
        "        A = splinalg.aslinearoperator(A)\n",
        "        fA, fAT = A.matvec, A.rmatvec\n",
        "\n",
        "    # roughly estimate the Lipschitz constant\n",
        "    if L is None:\n",
        "        L = 2*linalg.norm(fA(fAT(b))) / linalg.norm(b)\n",
        "\n",
        "    # initialize x\n",
        "    if x is None:\n",
        "        x = fAT(b)\n",
        "\n",
        "    # initialize variables\n",
        "    t = 1.\n",
        "    w = x.copy()\n",
        "    r = b - fA(w)\n",
        "\n",
        "    count = 0\n",
        "    cost_history = []\n",
        "    normr = linalg.norm(r)\n",
        "    while count < maxiter and normr > tol:\n",
        "        count += 1\n",
        "        dx = x.copy()\n",
        "        x = soft(w + fAT(r) / L, l/L)\n",
        "        dx = x - dx\n",
        "\n",
        "        told = t\n",
        "        t = 0.5 * (1. + np.sqrt(1. + 4. * t * t))\n",
        "        w = x + ((told - 1.) / t) * dx\n",
        "\n",
        "        r = b - fA(w)\n",
        "        normr = linalg.norm(r)\n",
        "        cost_history.append( normr*normr + l*np.sum(np.abs(x)) )\n",
        "\n",
        "        if linalg.norm(dx) < tolx:\n",
        "            break\n",
        "\n",
        "    return x, cost_history"
      ],
      "execution_count": null,
      "outputs": []
    },
    {
      "cell_type": "code",
      "metadata": {
        "id": "ZiGdBvjwAuBp",
        "colab_type": "code",
        "colab": {}
      },
      "source": [
        "import numpy as np\n",
        "from scipy.fftpack import dct, idct\n",
        "from scipy import linalg\n",
        "from pywt import wavedec, waverec, coeffs_to_array, array_to_coeffs\n",
        "\n",
        "def dwt(data, wavelet, mode='per', level=None):\n",
        "    # returns (coeff_arr, coeff_slices)\n",
        "    return coeffs_to_array(wavedec(data, wavelet, mode, level))\n",
        "\n",
        "def idwt(coeff_arr_slices, wavelet, mode='per'):\n",
        "    # returns data\n",
        "    return waverec(array_to_coeffs(coeff_arr_slices[0], coeff_arr_slices[1], output_format='wavedec'), wavelet, mode)\n",
        "\n",
        "# fA\n",
        "def reconst_dctwt(coeffs, coeff_slices, wavelet='db10', wl_weight=0.5):\n",
        "    n = coeffs.shape[0] // 2\n",
        "    return idct(coeffs[:n], norm='ortho') +  wl_weight * idwt([coeffs[n:], coeff_slices], wavelet)\n",
        "\n",
        "# fAT\n",
        "def decomp_dctwt(signal, wavelet='db10', level=None, wl_weight=0.5):\n",
        "    # returns (coeffs, coeff_slices)\n",
        "    coeff_arr, coeff_slices = dwt(signal, wavelet, level=level)\n",
        "    return np.concatenate((dct(signal, norm='ortho'), wl_weight*coeff_arr), axis=0), coeff_slices"
      ],
      "execution_count": null,
      "outputs": []
    },
    {
      "cell_type": "code",
      "metadata": {
        "id": "3XGBqVCLAc9G",
        "colab_type": "code",
        "colab": {}
      },
      "source": [
        "from scipy.fftpack import next_fast_len\n",
        "\n",
        "def separate_signal_dctwt_FISTA(signal, x=None, tol=1e-5, maxiter=1000, tolx=1e-12, l=1., L=None,\n",
        "                                wavelet='db10', level = 3, wl_weight = 0.5):\n",
        "    \n",
        "    length = len(signal)\n",
        "    n = next_fast_len(length)\n",
        "\n",
        "    b = np.zeros((n))\n",
        "    b[0:length] = signal[0:length]\n",
        "\n",
        "    cnnz = float(\"Inf\")\n",
        "    slices = decomp_dctwt(b, wavelet, level, wl_weight)[1]\n",
        "\n",
        "    fA = lambda x: reconst_dctwt(x, slices, wavelet, wl_weight)   \n",
        "    fAT = lambda y: decomp_dctwt(y, wavelet, level, wl_weight)[0]\n",
        "\n",
        "    #FISTA\n",
        "    x, cost_history = FISTA(A=(fA, fAT), b=b, x=x, tol=tol, maxiter=maxiter, tolx=tolx, l=l, L=L)\n",
        "\n",
        "    signal_dct = idct(x[:n], norm='ortho')[:length]\n",
        "    signal_wl = wl_weight * idwt((x[n:], slices), wavelet)[:length]\n",
        "\n",
        "    return  signal_dct, signal_wl, x, cost_history"
      ],
      "execution_count": null,
      "outputs": []
    },
    {
      "cell_type": "code",
      "metadata": {
        "id": "_F2oJwXihbzH",
        "colab_type": "code",
        "colab": {}
      },
      "source": [
        "signal = ??? # np.array()"
      ],
      "execution_count": null,
      "outputs": []
    },
    {
      "cell_type": "code",
      "metadata": {
        "id": "FKwXljqxgWhJ",
        "colab_type": "code",
        "colab": {}
      },
      "source": [
        "signal_dct, signal_wl, x, cost_history = separate_signal_dctwt_FISTA(signal, maxiter=100, l=1.)\n",
        "\n",
        "import matplotlib.pyplot as plt\n",
        "plt.plot(signal, '.-', signal_dct, 'r.-', signal_wl, 'g.-')"
      ],
      "execution_count": null,
      "outputs": []
    },
    {
      "cell_type": "code",
      "metadata": {
        "id": "oPFTY2TfhcFs",
        "colab_type": "code",
        "colab": {}
      },
      "source": [
        ""
      ],
      "execution_count": null,
      "outputs": []
    },
    {
      "cell_type": "code",
      "metadata": {
        "id": "b7AhYdhZBlBb",
        "colab_type": "code",
        "colab": {}
      },
      "source": [
        "from google.colab import files\n",
        "uploaded = files.upload()"
      ],
      "execution_count": null,
      "outputs": []
    },
    {
      "cell_type": "code",
      "metadata": {
        "id": "xTx7yw3nCV4t",
        "colab_type": "code",
        "colab": {}
      },
      "source": [
        "!ls"
      ],
      "execution_count": null,
      "outputs": []
    }
  ]
}